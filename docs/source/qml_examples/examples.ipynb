{
 "cells": [
  {
   "cell_type": "markdown",
   "metadata": {},
   "source": [
    "# Examples"
   ]
  },
  {
   "cell_type": "markdown",
   "metadata": {},
   "source": [
    "## Generating representations using the ``Compound`` class\n",
    "\n",
    "The following example demonstrates how to generate a representation via\n",
    "the ``qml.data.Compound`` class."
   ]
  },
  {
   "cell_type": "code",
   "execution_count": null,
   "metadata": {},
   "outputs": [],
   "source": [
    "from qml.data import Compound\n",
    "\n",
    "# Read in an xyz or cif file.\n",
    "water = Compound(xyz=\"water.xyz\")\n",
    "\n",
    "# Generate a molecular coulomb matrices sorted by row norm.\n",
    "water.generate_coulomb_matrix(size=5, sorting=\"row-norm\")\n",
    "\n",
    "print(water.representation)"
   ]
  },
  {
   "cell_type": "markdown",
   "metadata": {},
   "source": [
    "Might print the following representation:"
   ]
  },
  {
   "cell_type": "code",
   "execution_count": null,
   "metadata": {},
   "outputs": [],
   "source": [
    "    [ 73.51669472   8.3593106    0.5          8.35237809   0.66066557   0.5\n",
    "       0.           0.           0.           0.           0.           0.           0.\n",
    "       0.           0.        ]"
   ]
  },
  {
   "cell_type": "markdown",
   "metadata": {},
   "source": [
    "## Generating representations via the ``qml.representations`` module"
   ]
  },
  {
   "cell_type": "markdown",
   "metadata": {},
   "source": [
    "Generating the Coulomb-matrix for water:"
   ]
  },
  {
   "cell_type": "code",
   "execution_count": 3,
   "metadata": {},
   "outputs": [
    {
     "name": "stdout",
     "output_type": "stream",
     "text": [
      "[73.51669472  8.3593106   0.5         8.35237809  0.66066557  0.5\n",
      "  0.          0.          0.          0.          0.          0.\n",
      "  0.          0.          0.        ]\n"
     ]
    }
   ],
   "source": [
    "import numpy as np\n",
    "from qml.ml.representations import *\n",
    "\n",
    "# Dummy coordinates for a water molecule\n",
    "coordinates = np.array([[1.464, 0.707, 1.056],\n",
    "                        [0.878, 1.218, 0.498],\n",
    "                        [2.319, 1.126, 0.952]])\n",
    "\n",
    "# Oxygen, Hydrogen, Hydrogen\n",
    "nuclear_charges = np.array([8, 1, 1])\n",
    "\n",
    "# Generate a molecular coulomb matrices sorted by row norm.\n",
    "cm1 = generate_coulomb_matrix(nuclear_charges, coordinates,\n",
    "                                size=5, sorting=\"row-norm\")\n",
    "print(cm1)"
   ]
  },
  {
   "cell_type": "markdown",
   "metadata": {},
   "source": [
    "Generating all atomic coulomb matrices sorted by distance to query atom:"
   ]
  },
  {
   "cell_type": "code",
   "execution_count": 7,
   "metadata": {},
   "outputs": [
    {
     "name": "stdout",
     "output_type": "stream",
     "text": [
      "[[73.51669472  8.3593106   0.5         8.35237809  0.66066557  0.5\n",
      "   0.          0.          0.          0.          0.          0.\n",
      "   0.          0.          0.        ]\n",
      " [ 0.5         8.3593106  73.51669472  0.66066557  8.35237809  0.5\n",
      "   0.          0.          0.          0.          0.          0.\n",
      "   0.          0.          0.        ]\n",
      " [ 0.5         8.35237809 73.51669472  0.66066557  8.3593106   0.5\n",
      "   0.          0.          0.          0.          0.          0.\n",
      "   0.          0.          0.        ]]\n"
     ]
    }
   ],
   "source": [
    "cm2 = generate_atomic_coulomb_matrix(nuclear_charges, coordinates, size=5, sorting=\"distance\")\n",
    "print(cm2)"
   ]
  },
  {
   "cell_type": "markdown",
   "metadata": {},
   "source": [
    "## Calculating a Gaussian kernel\n",
    "The input for most of the kernels in QML is a numpy array, where the first dimension is the number of representations, and the second dimension is the size of each representation. An brief example is presented here, where ``compounds`` is a list of ``Compound()`` objects:\n"
   ]
  },
  {
   "cell_type": "code",
   "execution_count": null,
   "metadata": {},
   "outputs": [],
   "source": [
    "import numpy as np\n",
    "from qml.ml.kernels import gaussian_kernel\n",
    "\n",
    "# Generate a numpy-array of the representation\n",
    "X = np.array([c.representation for c in compounds])\n",
    "\n",
    "# Kernel-width\n",
    "sigma = 100.0\n",
    "\n",
    "# Calculate the kernel-matrix\n",
    "K = gaussian_kernel(X, X, sigma)"
   ]
  },
  {
   "cell_type": "markdown",
   "metadata": {},
   "source": [
    "## Calculating a Gaussian kernel using a local representation\n",
    "\n",
    "The easiest way to calculate the kernel matrix using an explicit, local representation is via the wrappers module. Note that here the sigmas is a list of sigmas, and the result is a kernel for each sigma. The following examples currently work with the atomic coulomb matrix representation and the local SLATM representation:\n"
   ]
  },
  {
   "cell_type": "code",
   "execution_count": null,
   "metadata": {},
   "outputs": [],
   "source": [
    "import numpy as np\n",
    "from qml.ml.kernels import get_local_kernels_gaussian\n",
    "\n",
    "# Assume the QM7 dataset is loaded into a list of Compound()\n",
    "for compound in qm7:\n",
    "\n",
    "    # Generate the desired representation for each compound\n",
    "    compound.generate_atomic_coulomb_matrix(size=23, sort=\"row-norm\")\n",
    "\n",
    "# Make a big array with all the atomic representations\n",
    "X = np.concatenate([mol.representation for mol in qm7])\n",
    "\n",
    "# Make an array with the number of atoms in each compound\n",
    "N = np.array([mol.natoms for mol in qm7])\n",
    "\n",
    "# List of kernel-widths\n",
    "sigmas = [50.0, 100.0, 200.0]\n",
    "\n",
    "# Calculate the kernel-matrix\n",
    "K = get_local_kernels_gaussian(X, X, N, N, sigmas)\n",
    "\n",
    "print(K.shape)"
   ]
  },
  {
   "cell_type": "markdown",
   "metadata": {},
   "source": [
    "Note that ``mol.representation`` is just a 1D numpy array."
   ]
  },
  {
   "cell_type": "markdown",
   "metadata": {},
   "source": [
    "## Generating the SLATM representation\n",
    "\n",
    "The Spectrum of London and Axillrod-Teller-Muto potential (SLATM) representation requires additional input to reduce the size of the representation.\n",
    "This input (the types of many-body terms) is generate via the ``get_slatm_mbtypes()`` function. The function takes a list of the nuclear charges for each molecule in the dataset as input. E.g.:\n"
   ]
  },
  {
   "cell_type": "code",
   "execution_count": null,
   "metadata": {},
   "outputs": [],
   "source": [
    "from qml.ml.representations import get_slatm_mbtypes\n",
    "\n",
    "# Assume 'qm7' is a list of Compound() objects.\n",
    "mbtypes = get_slatm_mbtypes([mol.nuclear_charges for compound in qm7])\n",
    "\n",
    "# Assume the QM7 dataset is loaded into a list of Compound()\n",
    "for compound in qm7:\n",
    "\n",
    "    # Generate the desired representation for each compound\n",
    "    compound.generate_slatm(mbtypes, local=True)"
   ]
  },
  {
   "cell_type": "markdown",
   "metadata": {},
   "source": [
    "The ``local`` keyword in this example specifies that a local representation is produced. Alternatively the SLATM representation can be generate via the ``qml.ml.representations`` module:"
   ]
  },
  {
   "cell_type": "code",
   "execution_count": null,
   "metadata": {},
   "outputs": [],
   "source": [
    "from qml.ml.representations import generate_slatm\n",
    "\n",
    "# Dummy coordinates\n",
    "coordinates = ... \n",
    "\n",
    "# Dummy nuclear charges\n",
    "nuclear_charges = ...\n",
    "\n",
    "# Dummy mbtypes\n",
    "mbtypes = get_slatm_mbtypes( ... )\n",
    "\n",
    "# Generate one representation\n",
    "rep = generate_slatm(coordinates, nuclear_charges, mbtypes)"
   ]
  },
  {
   "cell_type": "markdown",
   "metadata": {},
   "source": [
    "Here ``coordinates`` is an Nx3 numpy array, and ``nuclear_charges`` is simply a list of charges.\n"
   ]
  },
  {
   "cell_type": "markdown",
   "metadata": {},
   "source": [
    "## Generating the FCHL representation\n",
    "\n",
    "The FCHL representation does not have an explicit representation in the form of a vector, and the kernel elements must be calculated analytically in a separate kernel function.\n",
    "The syntax is analogous to the explicit representations (e.g. Coulomb matrix, BoB, SLATM, etc), but is handled by kernels from the separate ``qml.ml.representations.fchl`` module.\n",
    "\n",
    "The code below show three ways to create the input representations for the FHCL kernel functions.\n",
    "\n",
    "First using the ``Compound`` class:"
   ]
  },
  {
   "cell_type": "code",
   "execution_count": null,
   "metadata": {},
   "outputs": [],
   "source": [
    "# Assume the dataset is loaded into a list of Compound()\n",
    "for compound in mols:\n",
    "\n",
    "    # Generate the desired representation for each compound, cut off in angstrom\n",
    "    compound.generate_fchl_representation(size=23, cut_off=10.0)\n",
    "\n",
    "# Make Numpy array of the representation, which can be parsed to the kernel\n",
    "X = np.array([c.representation for c in mols])"
   ]
  },
  {
   "cell_type": "markdown",
   "metadata": {},
   "source": [
    "The dimensions of the array should be ``(number_molecules, size, 5, size)``, where ``size`` is the\n",
    "size keyword used when generating the representations. \n",
    "\n",
    "In addition to using the ``Compound`` class to generate the representations, FCHL representations can also be generated via the ``qml.ml.representations.fchl.generate_fchl_representation()`` function, using similar notation to the functions in the ``qml.ml.representations.*`` functions."
   ]
  },
  {
   "cell_type": "code",
   "execution_count": null,
   "metadata": {},
   "outputs": [],
   "source": [
    "from qml.ml.representations.fchl import generate_representation \n",
    "\n",
    "# Dummy coordinates for a water molecule\n",
    "coordinates = np.array([[1.464, 0.707, 1.056],\n",
    "                        [0.878, 1.218, 0.498],\n",
    "                        [2.319, 1.126, 0.952]])\n",
    "\n",
    "# Oxygen, Hydrogen, Hydrogen\n",
    "nuclear_charges = np.array([8, 1, 1])\n",
    "\n",
    "rep = generate_representation(coordinates, nuclear_charges)"
   ]
  },
  {
   "cell_type": "markdown",
   "metadata": {},
   "source": [
    "To create the representation for a crystal, the notation is as follows:"
   ]
  },
  {
   "cell_type": "code",
   "execution_count": null,
   "metadata": {},
   "outputs": [],
   "source": [
    "from qml.ml.representations.fchl import generate_representation \n",
    "\n",
    "# Dummy fractional coordinates\n",
    "fractional_coordinates = np.array(\n",
    "        [[ 0.        ,  0.        ,  0.        ],\n",
    "         [ 0.75000042,  0.50000027,  0.25000015],\n",
    "         [ 0.15115386,  0.81961403,  0.33154037],\n",
    "         [ 0.51192691,  0.18038651,  0.3315404 ],\n",
    "         [ 0.08154025,  0.31961376,  0.40115401],\n",
    "         [ 0.66846017,  0.81961403,  0.48807366],\n",
    "         [ 0.08154025,  0.68038678,  0.76192703],\n",
    "         [ 0.66846021,  0.18038651,  0.84884672],\n",
    "         [ 0.23807355,  0.31961376,  0.91846033],\n",
    "         [ 0.59884657,  0.68038678,  0.91846033],\n",
    "         [ 0.50000031,  0.        ,  0.50000031],\n",
    "         [ 0.25000015,  0.50000027,  0.75000042]]\n",
    "    )\n",
    "\n",
    "# Dummy nuclear charges\n",
    "nuclear_charges = np.array(\n",
    "        [58, 58, 8, 8, 8, 8, 8, 8, 8, 8, 23, 23]\n",
    "    )\n",
    "\n",
    "# Dummy unit cell\n",
    "unit_cell = np.array(\n",
    "        [[ 3.699168,  3.699168, -3.255938],\n",
    "         [ 3.699168, -3.699168,  3.255938],\n",
    "         [-3.699168, -3.699168, -3.255938]]\n",
    "    )\n",
    "\n",
    "# Generate the representation\n",
    "rep = generate_representation(fractional_coordinates, nuclear_charges, cell=unit_cell, neighbors=100, cut_distance=7.0)"
   ]
  },
  {
   "cell_type": "markdown",
   "metadata": {},
   "source": [
    "The `neighbors` keyword is the max number of atoms with the cutoff-distance"
   ]
  },
  {
   "cell_type": "markdown",
   "metadata": {},
   "source": [
    "## Generating the FCHL kernel \n",
    "\n",
    "The following example demonstrates how to calculate the local FCHL kernel elements between FCHL representations. ``X1`` and ``X2`` are numpy arrays with the shape ``(number_compounds, max_size, 5, neighbors)``, as generated in one of the previous examples. You MUST use the same, or larger, cut-off distance to generate the representation, as to calculate the kernel.\n",
    "\n",
    "As output you will get a kernel for each kernel-width."
   ]
  },
  {
   "cell_type": "code",
   "execution_count": null,
   "metadata": {},
   "outputs": [],
   "source": [
    "from qml.ml.representations.fchl import get_local_kernels\n",
    "\n",
    "# You can get kernels for multiple kernel-widths\n",
    "sigmas = [2.5, 5.0, 10.0]\n",
    "\n",
    "# Calculate the kernel-matrices for each sigma\n",
    "K = get_local_kernels(X1, X2, sigmas, cut_distance=10.0)\n",
    "\n",
    "print(K.shape)"
   ]
  },
  {
   "cell_type": "markdown",
   "metadata": {},
   "source": [
    "In case ``X1`` and ``X2`` are identical, K will be symmetrical. This is handled by a separate function with exploits this symmetry (thus being twice as fast).\n"
   ]
  },
  {
   "cell_type": "code",
   "execution_count": null,
   "metadata": {},
   "outputs": [],
   "source": [
    "from qml.ml.representations.fchl import get_local_symmetric_kernels\n",
    "\n",
    "# You can get kernels for multiple kernel-widths\n",
    "sigmas = [2.5, 5.0, 10.0]\n",
    "\n",
    "# Calculate the kernel-matrices for each sigma\n",
    "K = get_local_kernels(X1, sigmas, cut_distance=10.0)\n",
    "\n",
    "print(K.shape)"
   ]
  },
  {
   "cell_type": "markdown",
   "metadata": {},
   "source": [
    "In addition to the local kernel, the FCHL module also provides kernels for atomic properties (e.g. chemical shifts, partial charges, etc). These have the name \"atomic\", rather than \"local\".\n"
   ]
  },
  {
   "cell_type": "code",
   "execution_count": 11,
   "metadata": {},
   "outputs": [],
   "source": [
    "from qml.ml.representations.fchl import get_atomic_kernels\n",
    "from qml.ml.representations.fchl import get_atomic_symmetric_kernels"
   ]
  },
  {
   "cell_type": "markdown",
   "metadata": {},
   "source": [
    "The only difference between the local and atomic kernels is the shape of the input.\n",
    "Since the atomic kernel outputs kernels with atomic resolution, the atomic input has the shape ``(number_atoms, 5, size)``.\n"
   ]
  },
  {
   "cell_type": "code",
   "execution_count": null,
   "metadata": {},
   "outputs": [],
   "source": []
  }
 ],
 "metadata": {
  "kernelspec": {
   "display_name": "Python 3",
   "language": "python",
   "name": "python3"
  },
  "language_info": {
   "codemirror_mode": {
    "name": "ipython",
    "version": 3
   },
   "file_extension": ".py",
   "mimetype": "text/x-python",
   "name": "python",
   "nbconvert_exporter": "python",
   "pygments_lexer": "ipython3",
   "version": "3.6.5"
  }
 },
 "nbformat": 4,
 "nbformat_minor": 2
}
