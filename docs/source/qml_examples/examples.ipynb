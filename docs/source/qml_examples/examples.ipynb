{
 "cells": [
  {
   "cell_type": "markdown",
   "metadata": {},
   "source": [
    "# Examples"
   ]
  },
  {
   "cell_type": "markdown",
   "metadata": {},
   "source": [
    "## Generating representations using the ``Compound`` class\n",
    "\n",
    "The following example demonstrates how to generate a representation via\n",
    "the ``qml.data.Compound`` class."
   ]
  },
  {
   "cell_type": "code",
   "execution_count": null,
   "metadata": {},
   "outputs": [],
   "source": [
    "from qml.data import Compound\n",
    "\n",
    "# Read in an xyz or cif file.\n",
    "water = Compound(xyz=\"water.xyz\")\n",
    "\n",
    "# Generate a molecular coulomb matrices sorted by row norm.\n",
    "water.generate_coulomb_matrix(size=5, sorting=\"row-norm\")\n",
    "\n",
    "print(water.representation)"
   ]
  },
  {
   "cell_type": "markdown",
   "metadata": {},
   "source": [
    "Might print the following representation:"
   ]
  },
  {
   "cell_type": "code",
   "execution_count": null,
   "metadata": {},
   "outputs": [],
   "source": [
    "    [ 73.51669472   8.3593106    0.5          8.35237809   0.66066557   0.5\n",
    "       0.           0.           0.           0.           0.           0.           0.\n",
    "       0.           0.        ]"
   ]
  },
  {
   "cell_type": "markdown",
   "metadata": {},
   "source": [
    "## Generating representations via the ``qml.representations`` module"
   ]
  },
  {
   "cell_type": "markdown",
   "metadata": {},
   "source": [
    "Generating the Coulomb-matrix for water:"
   ]
  },
  {
   "cell_type": "code",
   "execution_count": null,
   "metadata": {},
   "outputs": [],
   "source": [
    "import numpy as np\n",
    "from qml.representations import *\n",
    "\n",
    "# Dummy coordinates for a water molecule\n",
    "coordinates = np.array([[1.464, 0.707, 1.056],\n",
    "                        [0.878, 1.218, 0.498],\n",
    "                        [2.319, 1.126, 0.952]])\n",
    "\n",
    "# Oxygen, Hydrogen, Hydrogen\n",
    "nuclear_charges = np.array([8, 1, 1])\n",
    "\n",
    "# Generate a molecular coulomb matrices sorted by row norm.\n",
    "cm1 = generate_coulomb_matrix(nuclear_charges, coordinates,\n",
    "                                size=5, sorting=\"row-norm\")\n",
    "print(cm1)"
   ]
  },
  {
   "cell_type": "markdown",
   "metadata": {},
   "source": [
    "Generating all atomic coulomb matrices sorted by distance to query atom:"
   ]
  },
  {
   "cell_type": "code",
   "execution_count": null,
   "metadata": {},
   "outputs": [],
   "source": [
    "cm2 = generate_atomic_coulomb_matrix(nuclear_charges, coordinates, size=5, sorting=\"distance\")\n",
    "print(cm2)"
   ]
  },
  {
   "cell_type": "markdown",
   "metadata": {},
   "source": [
    "## Calculating a Gaussian kernel\n",
    "The input for most of the kernels in QML is a numpy array, where the first dimension is the number of representations, and the second dimension is the size of each representation. An brief example is presented here, where ``compounds`` is a list of ``Compound()`` objects:\n"
   ]
  },
  {
   "cell_type": "code",
   "execution_count": null,
   "metadata": {},
   "outputs": [],
   "source": [
    "import numpy as np\n",
    "from qml.kernels import gaussian_kernel\n",
    "\n",
    "# Generate a numpy-array of the representation\n",
    "X = np.array([c.representation for c in compounds])\n",
    "\n",
    "# Kernel-width\n",
    "sigma = 100.0\n",
    "\n",
    "# Calculate the kernel-matrix\n",
    "K = gaussian_kernel(X, X, sigma)"
   ]
  },
  {
   "cell_type": "markdown",
   "metadata": {},
   "source": [
    "## Calculating a Gaussian kernel using a local representation\n",
    "\n",
    "The easiest way to calculate the kernel matrix using an explicit, local representation is via the wrappers module. Note that here the sigmas is a list of sigmas, and the result is a kernel for each sigma. The following examples currently work with the atomic coulomb matrix representation and the local SLATM representation:\n"
   ]
  },
  {
   "cell_type": "code",
   "execution_count": null,
   "metadata": {},
   "outputs": [],
   "source": [
    "import numpy as np\n",
    "from qml.kernels import get_local_kernels_gaussian\n",
    "\n",
    "# Assume the QM7 dataset is loaded into a list of Compound()\n",
    "for compound in qm7:\n",
    "\n",
    "    # Generate the desired representation for each compound\n",
    "    compound.generate_atomic_coulomb_matrix(size=23, sort=\"row-norm\")\n",
    "\n",
    "# Make a big array with all the atomic representations\n",
    "X = np.concatenate([mol.representation for mol in qm7])\n",
    "\n",
    "# Make an array with the number of atoms in each compound\n",
    "N = np.array([mol.natoms for mol in qm7])\n",
    "\n",
    "# List of kernel-widths\n",
    "sigmas = [50.0, 100.0, 200.0]\n",
    "\n",
    "# Calculate the kernel-matrix\n",
    "K = get_local_kernels_gaussian(X, X, N, N, sigmas)\n",
    "\n",
    "print(K.shape)"
   ]
  },
  {
   "cell_type": "markdown",
   "metadata": {},
   "source": [
    "Note that ``mol.representation`` is just a 1D numpy array."
   ]
  },
  {
   "cell_type": "markdown",
   "metadata": {},
   "source": [
    "## Generating the SLATM representation\n",
    "\n",
    "The Spectrum of London and Axillrod-Teller-Muto potential (SLATM) representation requires additional input to reduce the size of the representation.\n",
    "This input (the types of many-body terms) is generate via the ``get_slatm_mbtypes()`` function. The function takes a list of the nuclear charges for each molecule in the dataset as input. E.g.:\n"
   ]
  },
  {
   "cell_type": "code",
   "execution_count": null,
   "metadata": {},
   "outputs": [],
   "source": [
    "from qml.representations import get_slatm_mbtypes\n",
    "\n",
    "# Assume 'qm7' is a list of Compound() objects.\n",
    "mbtypes = get_slatm_mbtypes([mol.nuclear_charges for compound in qm7])\n",
    "\n",
    "# Assume the QM7 dataset is loaded into a list of Compound()\n",
    "for compound in qm7:\n",
    "\n",
    "    # Generate the desired representation for each compound\n",
    "    compound.generate_slatm(mbtypes, local=True)"
   ]
  },
  {
   "cell_type": "markdown",
   "metadata": {},
   "source": [
    "The ``local`` keyword in this example specifies that a local representation is produced. Alternatively the SLATM representation can be generate via the ``qml.representations`` module:"
   ]
  },
  {
   "cell_type": "code",
   "execution_count": null,
   "metadata": {},
   "outputs": [],
   "source": [
    "from qml.representations import generate_slatm\n",
    "\n",
    "# Dummy coordinates\n",
    "coordinates = ... \n",
    "\n",
    "# Dummy nuclear charges\n",
    "nuclear_charges = ...\n",
    "\n",
    "# Dummy mbtypes\n",
    "mbtypes = get_slatm_mbtypes( ... )\n",
    "\n",
    "# Generate one representation\n",
    "rep = generate_slatm(coordinates, nuclear_charges, mbtypes)"
   ]
  },
  {
   "cell_type": "markdown",
   "metadata": {},
   "source": [
    "Here ``coordinates`` is an Nx3 numpy array, and ``nuclear_charges`` is simply a list of charges.\n"
   ]
  },
  {
   "cell_type": "markdown",
   "metadata": {},
   "source": [
    "## Generating the FCHL representation\n",
    "\n",
    "The FCHL representation does not have an explicit representation in the form of a vector, and the kernel elements must be calculated analytically in a separate kernel function.\n",
    "The syntax is analogous to the explicit representations (e.g. Coulomb matrix, BoB, SLATM, etc), but is handled by kernels from the separate ``qml.representations.fchl`` module.\n",
    "\n",
    "The code below show three ways to create the input representations for the FHCL kernel functions.\n",
    "\n",
    "First using the ``Compound`` class:"
   ]
  },
  {
   "cell_type": "code",
   "execution_count": null,
   "metadata": {},
   "outputs": [],
   "source": [
    "# Assume the dataset is loaded into a list of Compound()\n",
    "for compound in mols:\n",
    "\n",
    "    # Generate the desired representation for each compound, cut off in angstrom\n",
    "    compound.generate_fchl_representation(size=23, cut_off=10.0)\n",
    "\n",
    "# Make Numpy array of the representation, which can be parsed to the kernel\n",
    "X = np.array([c.representation for c in mols])"
   ]
  },
  {
   "cell_type": "markdown",
   "metadata": {},
   "source": [
    "The dimensions of the array should be ``(number_molecules, size, 5, size)``, where ``size`` is the\n",
    "size keyword used when generating the representations. \n",
    "\n",
    "In addition to using the ``Compound`` class to generate the representations, FCHL representations can also be generated via the ``qml.representations.fchl.generate_fchl_representation()`` function, using similar notation to the functions in the ``qml.representations.*`` functions."
   ]
  },
  {
   "cell_type": "code",
   "execution_count": null,
   "metadata": {},
   "outputs": [],
   "source": [
    "from qml.representations.fchl import generate_representation \n",
    "\n",
    "# Dummy coordinates for a water molecule\n",
    "coordinates = np.array([[1.464, 0.707, 1.056],\n",
    "                        [0.878, 1.218, 0.498],\n",
    "                        [2.319, 1.126, 0.952]])\n",
    "\n",
    "# Oxygen, Hydrogen, Hydrogen\n",
    "nuclear_charges = np.array([8, 1, 1])\n",
    "\n",
    "rep = generate_representation(coordinates, nuclear_charges)"
   ]
  },
  {
   "cell_type": "markdown",
   "metadata": {},
   "source": [
    "To create the representation for a crystal, the notation is as follows:"
   ]
  },
  {
   "cell_type": "code",
   "execution_count": null,
   "metadata": {},
   "outputs": [],
   "source": [
    "from qml.representations.fchl import generate_representation \n",
    "\n",
    "# Dummy fractional coordinates\n",
    "fractional_coordinates = np.array(\n",
    "        [[ 0.        ,  0.        ,  0.        ],\n",
    "         [ 0.75000042,  0.50000027,  0.25000015],\n",
    "         [ 0.15115386,  0.81961403,  0.33154037],\n",
    "         [ 0.51192691,  0.18038651,  0.3315404 ],\n",
    "         [ 0.08154025,  0.31961376,  0.40115401],\n",
    "         [ 0.66846017,  0.81961403,  0.48807366],\n",
    "         [ 0.08154025,  0.68038678,  0.76192703],\n",
    "         [ 0.66846021,  0.18038651,  0.84884672],\n",
    "         [ 0.23807355,  0.31961376,  0.91846033],\n",
    "         [ 0.59884657,  0.68038678,  0.91846033],\n",
    "         [ 0.50000031,  0.        ,  0.50000031],\n",
    "         [ 0.25000015,  0.50000027,  0.75000042]]\n",
    "    )\n",
    "\n",
    "# Dummy nuclear charges\n",
    "nuclear_charges = np.array(\n",
    "        [58, 58, 8, 8, 8, 8, 8, 8, 8, 8, 23, 23]\n",
    "    )\n",
    "\n",
    "# Dummy unit cell\n",
    "unit_cell = np.array(\n",
    "        [[ 3.699168,  3.699168, -3.255938],\n",
    "         [ 3.699168, -3.699168,  3.255938],\n",
    "         [-3.699168, -3.699168, -3.255938]]\n",
    "    )\n",
    "\n",
    "# Generate the representation\n",
    "rep = generate_representation(fractional_coordinates, nuclear_charges, cell=unit_cell, neighbors=100, cut_distance=7.0)"
   ]
  },
  {
   "cell_type": "markdown",
   "metadata": {},
   "source": [
    "The `neighbors` keyword is the max number of atoms with the cutoff-distance"
   ]
  },
  {
   "cell_type": "markdown",
   "metadata": {},
   "source": [
    "## Generating the FCHL kernel \n",
    "\n",
    "The following example demonstrates how to calculate the local FCHL kernel elements between FCHL representations. ``X1`` and ``X2`` are numpy arrays with the shape ``(number_compounds, max_size, 5, neighbors)``, as generated in one of the previous examples. You MUST use the same, or larger, cut-off distance to generate the representation, as to calculate the kernel.\n",
    "\n",
    "As output you will get a kernel for each kernel-width."
   ]
  },
  {
   "cell_type": "code",
   "execution_count": null,
   "metadata": {},
   "outputs": [],
   "source": [
    "from qml.representations.fchl import get_local_kernels\n",
    "\n",
    "# You can get kernels for multiple kernel-widths\n",
    "sigmas = [2.5, 5.0, 10.0]\n",
    "\n",
    "# Calculate the kernel-matrices for each sigma\n",
    "K = get_local_kernels(X1, X2, sigmas, cut_distance=10.0)\n",
    "\n",
    "print(K.shape)"
   ]
  },
  {
   "cell_type": "markdown",
   "metadata": {},
   "source": [
    "In case ``X1`` and ``X2`` are identical, K will be symmetrical. This is handled by a separate function with exploits this symmetry (thus being twice as fast).\n"
   ]
  },
  {
   "cell_type": "code",
   "execution_count": null,
   "metadata": {},
   "outputs": [],
   "source": [
    "from qml.representations.fchl import get_local_symmetric_kernels\n",
    "\n",
    "# You can get kernels for multiple kernel-widths\n",
    "sigmas = [2.5, 5.0, 10.0]\n",
    "\n",
    "# Calculate the kernel-matrices for each sigma\n",
    "K = get_local_kernels(X1, sigmas, cut_distance=10.0)\n",
    "\n",
    "print(K.shape)"
   ]
  },
  {
   "cell_type": "markdown",
   "metadata": {},
   "source": [
    "In addition to the local kernel, the FCHL module also provides kernels for atomic properties (e.g. chemical shifts, partial charges, etc). These have the name \"atomic\", rather than \"local\".\n"
   ]
  },
  {
   "cell_type": "code",
   "execution_count": null,
   "metadata": {},
   "outputs": [],
   "source": [
    "from qml.representations.fchl import get_atomic_kernels\n",
    "from qml.representations.fchl import get_atomic_symmetric_kernels"
   ]
  },
  {
   "cell_type": "markdown",
   "metadata": {},
   "source": [
    "The only difference between the local and atomic kernels is the shape of the input.\n",
    "Since the atomic kernel outputs kernels with atomic resolution, the atomic input has the shape ``(number_atoms, 5, size)``.\n"
   ]
  },
  {
   "cell_type": "markdown",
   "metadata": {},
   "source": [
    "## Fitting neural networks\n",
    "\n",
    "Depending on the representation that one is using, there are two classes of neural networks that can be used: `ARMP` and `MRMP`. These stand for 'Atomic Representation Molecular Properties' and 'Molecular Representation Molecular Properties' respectively."
   ]
  },
  {
   "cell_type": "markdown",
   "metadata": {},
   "source": [
    "### `ARMP` class\n",
    "\n",
    "There are three possible ways of using the `ARMP` class and they are all shown below.\n",
    "\n",
    "#### 1. Using the `Compound` class\n",
    "\n",
    "It is possible to include the Cartesian coordinates and the nuclear charges into the `Compound` class and then from the compounds generate the representation. This can be done as follows. \n",
    "\n",
    "The first step is to load some data: here we use a small data set where a isobutane molecule reacts with a cyano radical. Each data sample is a different configuration of this system."
   ]
  },
  {
   "cell_type": "code",
   "execution_count": 6,
   "metadata": {},
   "outputs": [
    {
     "name": "stdout",
     "output_type": "stream",
     "text": [
      "100 files were loaded.\n"
     ]
    }
   ],
   "source": [
    "from qml.aglaia.aglaia import ARMP\n",
    "import matplotlib.pyplot as plt\n",
    "import glob\n",
    "import numpy as np\n",
    "import os\n",
    "\n",
    "cwd = os.getcwd()\n",
    "dir_name = cwd + \"/../../../test/CN_isobutane/\"\n",
    "filenames = glob.glob(dir_name + '*.xyz')\n",
    "energies = np.loadtxt(dir_name + 'prop_kjmol_training.txt', usecols=[1])\n",
    "filenames.sort()\n",
    "\n",
    "print(\"%i files were loaded.\" % (len(filenames)))"
   ]
  },
  {
   "cell_type": "markdown",
   "metadata": {},
   "source": [
    "Then, we can create the estimator and specify all the hyper-parameters needed. For example, below we define an estimator that will do 5000 training epochs, will use the Atom Centered Symmetry Functions (ACSF) as the representation, and will have a L1 and L2 regularisation parameters on the weights of 0.0 and a learning rate of 0.075."
   ]
  },
  {
   "cell_type": "code",
   "execution_count": 2,
   "metadata": {},
   "outputs": [],
   "source": [
    "acsf_params = {\"nRs2\": 5, \"nRs3\": 5, \"nTs\": 5, \"rcut\": 5, \"acut\": 5, \"zeta\": 220.127, \"eta\": 30.8065}\n",
    "estimator = ARMP(iterations=5000, representation_name='acsf', representation_params=acsf_params, learning_rate=0.075, l1_reg=0.0, l2_reg=0.0, scoring_function=\"rmse\")"
   ]
  },
  {
   "cell_type": "markdown",
   "metadata": {},
   "source": [
    "Once the estimator is created, the compounds can be generated as follows. They will be stored inside the class and can be accessed through `estimator.compounds`. The ACSF can be generated from the compounds by calling the `generate_representation()` function."
   ]
  },
  {
   "cell_type": "code",
   "execution_count": 3,
   "metadata": {},
   "outputs": [
    {
     "name": "stdout",
     "output_type": "stream",
     "text": [
      "(100, 19, 165)\n"
     ]
    }
   ],
   "source": [
    "estimator.generate_compounds(filenames)\n",
    "estimator.generate_representation(method=\"fortran\")\n",
    "print(estimator.representation.shape)"
   ]
  },
  {
   "cell_type": "markdown",
   "metadata": {},
   "source": [
    "The shape of the representation is `(n_samples, n_atoms, n_features)`.\n",
    "\n",
    "Then, we need to set the properties. In this case we are fitting the energies of the different configurations."
   ]
  },
  {
   "cell_type": "code",
   "execution_count": 4,
   "metadata": {},
   "outputs": [],
   "source": [
    "estimator.set_properties(energies)"
   ]
  },
  {
   "cell_type": "markdown",
   "metadata": {},
   "source": [
    "At this point, we have stored 100 data samples in the class. To train the model, we need to specify the indices of the samples we want to train on. Here, since we have only loaded 100 samples, we are going to use all of them."
   ]
  },
  {
   "cell_type": "code",
   "execution_count": 5,
   "metadata": {},
   "outputs": [],
   "source": [
    "idx_train = np.arange(0,100)\n",
    "\n",
    "estimator.fit(idx_train)"
   ]
  },
  {
   "cell_type": "markdown",
   "metadata": {},
   "source": [
    "Now that the model is fit, we can score it or use it for predictions. The default scoring function is the Mean Absolute Error (MAE). This can be changed when generating the estimator through the keyword `scoring_function`. Here we are using the Root Mean Square Error."
   ]
  },
  {
   "cell_type": "code",
   "execution_count": 9,
   "metadata": {},
   "outputs": [
    {
     "name": "stdout",
     "output_type": "stream",
     "text": [
      "The RMSE is 0.05667379826437678 kJ/mol\n"
     ]
    },
    {
     "data": {
      "image/png": "[encoded data removed]",
      "text/plain": [
       "<Figure size 432x288 with 1 Axes>"
      ]
     },
     "metadata": {},
     "output_type": "display_data"
    }
   ],
   "source": [
    "score = estimator.score(idx_train)\n",
    "print(\"The RMSE is %s kJ/mol\" % (str(score)) )\n",
    "\n",
    "energies_predict = estimator.predict(idx_train)\n",
    "\n",
    "plt.scatter(energies, energies_predict)\n",
    "plt.xlabel(\"True Energies (kJ/mol)\")\n",
    "plt.ylabel(\"Predicted Energies (kJ/mol)\")\n",
    "plt.show()"
   ]
  },
  {
   "cell_type": "markdown",
   "metadata": {},
   "source": [
    "#### 2. Loading representations\n",
    "\n",
    "The second way to use the `ARMP` class is useful when you already have generated the representations. For example, if you have a file with the representations, the atom types and the energies, you can load the data into the `ARMP` estimator. Here we load 100 samples of a data set where a methane molecule reacts with a cyano radical. The cartesian coordinates have been transformed into the atomic SLATM representation already."
   ]
  },
  {
   "cell_type": "code",
   "execution_count": 12,
   "metadata": {},
   "outputs": [],
   "source": [
    "cwd = os.getcwd()\n",
    "dir_name = cwd + \"/../../../test/data/\"\n",
    "filename = \"local_slatm_ch4cn_light.npz\"\n",
    "data = np.load(dir_name + filename)\n",
    "\n",
    "representation = data[\"arr_0\"]\n",
    "zs = data[\"arr_1\"]\n",
    "energies = data[\"arr_2\"]\n",
    "\n",
    "estimator = ARMP(iterations=3000, learning_rate=0.075, l1_reg=0.0, l2_reg=0.0, scoring_function=\"rmse\")\n",
    "\n",
    "estimator.set_representations(representations=representation)\n",
    "estimator.set_classes(zs)\n",
    "estimator.set_properties(energies)"
   ]
  },
  {
   "cell_type": "markdown",
   "metadata": {},
   "source": [
    "In the same way as we did before, now we can use indices to specify on which samples to train, predict and score the model. Again, since we only have loaded 100 samples, we will train and predict on the same sets."
   ]
  },
  {
   "cell_type": "code",
   "execution_count": 13,
   "metadata": {},
   "outputs": [
    {
     "name": "stdout",
     "output_type": "stream",
     "text": [
      "The RMSE is 0.30888228285160746 kJ/mol\n"
     ]
    },
    {
     "data": {
      "image/png": "[encoded data removed]",
      "text/plain": [
       "<Figure size 432x288 with 1 Axes>"
      ]
     },
     "metadata": {},
     "output_type": "display_data"
    }
   ],
   "source": [
    "idx_train = np.arange(0,100)\n",
    "\n",
    "estimator.fit(idx_train)\n",
    "\n",
    "score = estimator.score(idx_train)\n",
    "\n",
    "print(\"The RMSE is %s kJ/mol\" % (str(score)) )\n",
    "\n",
    "energies_predict = estimator.predict(idx_train)\n",
    "\n",
    "plt.scatter(energies, energies_predict)\n",
    "plt.xlabel(\"True Energies (kJ/mol)\")\n",
    "plt.ylabel(\"Predicted Energies (kJ/mol)\")\n",
    "plt.show()"
   ]
  },
  {
   "cell_type": "markdown",
   "metadata": {},
   "source": [
    "#### 3. Passing representations straight to the fit function\n",
    "\n",
    "In this case, there the data is not stored in the class before the fit function is called. Here the data is passed directly to the fit function. When using this way of fitting the estimator it is important to remember that the data that will be passed to the predict/score functions _must_ contain the same element types as the data that was used for the fitting."
   ]
  },
  {
   "cell_type": "code",
   "execution_count": 15,
   "metadata": {},
   "outputs": [
    {
     "name": "stdout",
     "output_type": "stream",
     "text": [
      "The RMSE is 0.06417642021013359 kJ/mol\n"
     ]
    },
    {
     "data": {
      "image/png": "[encoded data removed]",
      "text/plain": [
       "<Figure size 432x288 with 1 Axes>"
      ]
     },
     "metadata": {},
     "output_type": "display_data"
    }
   ],
   "source": [
    "estimator = ARMP(iterations=3000, learning_rate=0.075, l1_reg=0.0, l2_reg=0.0, scoring_function=\"rmse\")\n",
    "\n",
    "estimator.fit(x=representation, y=energies, classes=zs)\n",
    "\n",
    "score = estimator.score(x=representation, y=energies, classes=zs)\n",
    "\n",
    "print(\"The RMSE is %s kJ/mol\" % (str(score)) )\n",
    "\n",
    "energies_predict = estimator.predict(x=representation, classes=zs)\n",
    "\n",
    "plt.scatter(energies, energies_predict)\n",
    "plt.xlabel(\"True Energies (kJ/mol)\")\n",
    "plt.ylabel(\"Predicted Energies (kJ/mol)\")\n",
    "plt.show()"
   ]
  },
  {
   "cell_type": "markdown",
   "metadata": {},
   "source": [
    "### `MRMP` class\n",
    "\n",
    "There are also three ways of using the `MRMP` class, which are the same as for the `ARMP` class. Therefore, only the second way is shown.\n",
    "\n",
    "In this class there is no need to specify the nuclear charges for the estimator, because the neural network is not atom decomposed. The representation needs to have a shape `(n_samples, n_features)` instead of `(n_samples, n_atoms, n_features)` which was needed for the `ARMP` class."
   ]
  },
  {
   "cell_type": "code",
   "execution_count": null,
   "metadata": {},
   "outputs": [],
   "source": [
    "estimator = MRMP(iterations=100, l2_reg=0.0)\n",
    "\n",
    "estimator.set_representations(representations=representation)\n",
    "estimator.set_properties(energies)"
   ]
  },
  {
   "cell_type": "markdown",
   "metadata": {},
   "source": [
    "Once the data is stored in the class, indices can be used to specify on which samples to train in the same way as for the `ARMP` class."
   ]
  }
 ],
 "metadata": {
  "kernelspec": {
   "display_name": "Python 3",
   "language": "python",
   "name": "python3"
  },
  "language_info": {
   "codemirror_mode": {
    "name": "ipython",
    "version": 3
   },
   "file_extension": ".py",
   "mimetype": "text/x-python",
   "name": "python",
   "nbconvert_exporter": "python",
   "pygments_lexer": "ipython3",
   "version": "3.6.6"
  }
 },
 "nbformat": 4,
 "nbformat_minor": 2
}
